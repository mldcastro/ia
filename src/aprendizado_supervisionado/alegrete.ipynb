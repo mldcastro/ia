{
 "cells": [
  {
   "cell_type": "markdown",
   "metadata": {
    "id": "fM1tzPvICydP"
   },
   "source": [
    "**Pressione SHIFT+ENTER para executar a célula**"
   ]
  },
  {
   "cell_type": "markdown",
   "metadata": {
    "id": "EtGzW6k4-epp"
   },
   "source": [
    "# Alegrete\n",
    "\n",
    "Este notebook fornece algumas visualizações para o trabalho de regressão linear. Para conseguir usar, implemente as funções no seu `alegrete.py` e tenha as bibliotecas `numpy` e `matplotlib` instaladas.\n",
    "\n",
    "O notebook usa um conjunto de dados sintetico. Adapte-o para carregar e usar os dados do `alegrete.csv`."
   ]
  },
  {
   "cell_type": "markdown",
   "metadata": {
    "id": "4YJqTGeQC59A"
   },
   "source": [
    "### Imports das bibliotecas de plot e da solucao implementada"
   ]
  },
  {
   "cell_type": "code",
   "execution_count": null,
   "metadata": {},
   "outputs": [],
   "source": [
    "%load_ext autoreload\n",
    "%autoreload 2"
   ]
  },
  {
   "cell_type": "code",
   "execution_count": null,
   "metadata": {
    "id": "k77xaJfA-epq"
   },
   "outputs": [],
   "source": [
    "import numpy as np\n",
    "import matplotlib.pyplot as plt\n",
    "import matplotlib.animation as animation\n",
    "\n",
    "from IPython.display import HTML\n",
    "\n",
    "import alegrete\n",
    "\n",
    "%matplotlib inline"
   ]
  },
  {
   "cell_type": "markdown",
   "metadata": {
    "id": "0q-q8220C59B"
   },
   "source": [
    "### Visualizacao dos dados"
   ]
  },
  {
   "cell_type": "code",
   "execution_count": null,
   "metadata": {
    "id": "E9HoBdK3-epu"
   },
   "outputs": [],
   "source": [
    "dataset = np.loadtxt(\"./alegrete.csv\", delimiter=\",\", dtype=np.float64)\n",
    "\n",
    "# Gráfico dos dados\n",
    "plt.figure(figsize=(6, 2))\n",
    "plt.scatter(dataset[:, 0], dataset[:, 1])\n",
    "plt.xlabel(\"Área\")\n",
    "plt.ylabel(\"Preço\")\n",
    "plt.title(\"Preço de fazendas em Alegrete\")\n",
    "plt.show()"
   ]
  },
  {
   "cell_type": "markdown",
   "metadata": {
    "id": "wnmqepye-ep_"
   },
   "source": [
    "### Execucao da regressao linear e calculo do EQM por epoca/iteracao\n",
    "\n",
    "Considere o parâmetro b o coeficiente linear (theta_0, visto em aula) e w o coeficiente angular (theta_1, visto em aula)."
   ]
  },
  {
   "cell_type": "code",
   "execution_count": null,
   "metadata": {
    "id": "x1VREIE7-eqA"
   },
   "outputs": [],
   "source": [
    "b_history, w_history = alegrete.fit(\n",
    "    dataset, b=-3, w=1.0, alpha=1e-5, num_iterations=1000\n",
    ")\n",
    "\n",
    "# valores finais de theta0 e theta1\n",
    "final_b, final_w = b_history[-1], w_history[-1]\n",
    "\n",
    "mse_list = [alegrete.compute_mse(b, w, dataset) for b, w in zip(b_history, w_history)]\n",
    "print(f\"EQM final: {mse_list[-1]}\")\n",
    "\n",
    "\n",
    "plt.plot(mse_list)\n",
    "plt.xlabel(\"Epoca/iteracao\")\n",
    "plt.ylabel(\"EQM\")\n",
    "plt.show()"
   ]
  },
  {
   "cell_type": "markdown",
   "metadata": {
    "id": "5v-y-qI3-ep7"
   },
   "source": [
    "### Plot da curva final"
   ]
  },
  {
   "cell_type": "code",
   "execution_count": null,
   "metadata": {},
   "outputs": [],
   "source": [
    "# De acordo com a Equação Normal, estes são os pesos ideiais que devemos encontrar\n",
    "\n",
    "input_vector = dataset[:, 0]\n",
    "input_matrix = np.c_[np.ones_like(input_vector), input_vector]\n",
    "\n",
    "observed_vector = dataset[:, 1]\n",
    "\n",
    "np.linalg.inv(input_matrix.T.dot(input_matrix)).dot(input_matrix.T).dot(observed_vector)"
   ]
  },
  {
   "cell_type": "code",
   "execution_count": null,
   "metadata": {
    "id": "WV6KIdPq-ep7"
   },
   "outputs": [],
   "source": [
    "# Imprimir parâmetros otimizados\n",
    "print(f\"Curva encontrada: {final_w}*x + {final_b}\")\n",
    "\n",
    "# plota os dados\n",
    "plt.figure(figsize=(4, 2))\n",
    "plt.scatter(dataset[:, 0], dataset[:, 1])\n",
    "\n",
    "# plota a curva de ajuste\n",
    "pred = final_w * dataset[:, 0] + final_b\n",
    "plt.plot(dataset[:, 0], pred, c=\"r\")\n",
    "plt.show()"
   ]
  },
  {
   "cell_type": "markdown",
   "metadata": {
    "id": "XeXdBWc-Cic-"
   },
   "source": [
    "### Progresso da descida do gradiente com o número de iterações\n",
    "\n",
    "Execute a celula e use os controles abaixo do grafico para visualizar o progresso do seu ajuste\n",
    "\n",
    "Pode aparecer um grafico \"extra\" abaixo da animacao, apenas ignore."
   ]
  },
  {
   "cell_type": "code",
   "execution_count": null,
   "metadata": {
    "id": "pHGbi8nY-eqI"
   },
   "outputs": [],
   "source": [
    "fig = plt.figure(figsize=(4, 2))\n",
    "ax = fig.add_subplot(111)\n",
    "\n",
    "# conjunto de dados\n",
    "ax.scatter(dataset[:, 0], dataset[:, 1])\n",
    "\n",
    "# linha com os valores iniciais dos parametros\n",
    "pred = w_history[0] * dataset[:, 0] + b_history[0]\n",
    "(line,) = ax.plot(dataset[:, 0], pred, \"-\", c=\"r\")\n",
    "\n",
    "\n",
    "# funcao que atualiza a linha a cada passo\n",
    "def animate(i):\n",
    "    pred = w_history[i] * dataset[:, 0] + b_history[i]\n",
    "    line.set_ydata(pred)\n",
    "    return (line,)\n",
    "\n",
    "\n",
    "# mude interval para trocar a velocidade da animacao\n",
    "ani = animation.FuncAnimation(\n",
    "    fig, animate, frames=len(b_history), interval=20, save_count=50\n",
    ")\n",
    "HTML(ani.to_jshtml())"
   ]
  }
 ],
 "metadata": {
  "colab": {
   "provenance": []
  },
  "kernelspec": {
   "display_name": "ufrgs-ia",
   "language": "python",
   "name": "python3"
  },
  "language_info": {
   "codemirror_mode": {
    "name": "ipython",
    "version": 3
   },
   "file_extension": ".py",
   "mimetype": "text/x-python",
   "name": "python",
   "nbconvert_exporter": "python",
   "pygments_lexer": "ipython3",
   "version": "3.12.11"
  }
 },
 "nbformat": 4,
 "nbformat_minor": 0
}
